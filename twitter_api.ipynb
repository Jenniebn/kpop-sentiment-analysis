{
 "cells": [
  {
   "cell_type": "code",
   "execution_count": 5,
   "metadata": {},
   "outputs": [],
   "source": [
    "import pandas as pd\n",
    "import configparser\n",
    "import tweepy"
   ]
  },
  {
   "cell_type": "markdown",
   "metadata": {},
   "source": [
    "Read the configuration file in order to access the Twitter API."
   ]
  },
  {
   "cell_type": "code",
   "execution_count": 2,
   "metadata": {},
   "outputs": [],
   "source": [
    "config = configparser.ConfigParser()\n",
    "config.read('config.ini')\n",
    "\n",
    "api_key = config['twitter']['api_key']\n",
    "api_key_secret = config['twitter']['api_key_secret']\n",
    "\n",
    "access_token = config['twitter']['access_token']\n",
    "access_token_secret = config['twitter']['access_token_secret']"
   ]
  },
  {
   "cell_type": "markdown",
   "metadata": {},
   "source": [
    "Authenticate"
   ]
  },
  {
   "cell_type": "code",
   "execution_count": 3,
   "metadata": {},
   "outputs": [],
   "source": [
    "auth = tweepy.OAuthHandler(api_key, api_key_secret)\n",
    "auth.set_access_token(access_token, access_token_secret)\n",
    "\n",
    "api = tweepy.API(auth)"
   ]
  },
  {
   "cell_type": "markdown",
   "metadata": {},
   "source": [
    "Geting some tweets can be as easy as...\n",
    "\n",
    "* for your user's entire timeline, `timeline_tweets = api.home_timeline()`"
   ]
  },
  {
   "cell_type": "code",
   "execution_count": 11,
   "metadata": {},
   "outputs": [],
   "source": [
    "query = 'kpop'\n",
    "lang = 'en'\n",
    "tweets = api.search_tweets(q=query, lang=lang)"
   ]
  },
  {
   "cell_type": "markdown",
   "metadata": {},
   "source": [
    "Putting it into a dataframe for manipulation..."
   ]
  },
  {
   "cell_type": "code",
   "execution_count": 12,
   "metadata": {},
   "outputs": [
    {
     "data": {
      "text/html": [
       "<div>\n",
       "<style scoped>\n",
       "    .dataframe tbody tr th:only-of-type {\n",
       "        vertical-align: middle;\n",
       "    }\n",
       "\n",
       "    .dataframe tbody tr th {\n",
       "        vertical-align: top;\n",
       "    }\n",
       "\n",
       "    .dataframe thead th {\n",
       "        text-align: right;\n",
       "    }\n",
       "</style>\n",
       "<table border=\"1\" class=\"dataframe\">\n",
       "  <thead>\n",
       "    <tr style=\"text-align: right;\">\n",
       "      <th></th>\n",
       "      <th>Time</th>\n",
       "      <th>User</th>\n",
       "      <th>Tweet</th>\n",
       "    </tr>\n",
       "  </thead>\n",
       "  <tbody>\n",
       "    <tr>\n",
       "      <th>0</th>\n",
       "      <td>2022-04-26 04:50:15+00:00</td>\n",
       "      <td>Marfisita</td>\n",
       "      <td>RT @jnghnynn: AVAILABLE VOTES FOR SALE! \\n\\n(F...</td>\n",
       "    </tr>\n",
       "    <tr>\n",
       "      <th>1</th>\n",
       "      <td>2022-04-26 04:50:15+00:00</td>\n",
       "      <td>pancakenationnn</td>\n",
       "      <td>RT @sarasfilter: and kpop stans kept trying to...</td>\n",
       "    </tr>\n",
       "    <tr>\n",
       "      <th>2</th>\n",
       "      <td>2022-04-26 04:50:14+00:00</td>\n",
       "      <td>elle_joon</td>\n",
       "      <td>RT @theblueprintbts: Kpop stans fighting tooth...</td>\n",
       "    </tr>\n",
       "    <tr>\n",
       "      <th>3</th>\n",
       "      <td>2022-04-26 04:50:14+00:00</td>\n",
       "      <td>skyfallwaka</td>\n",
       "      <td>all the westerners who won’t give kpop a try b...</td>\n",
       "    </tr>\n",
       "    <tr>\n",
       "      <th>4</th>\n",
       "      <td>2022-04-26 04:50:14+00:00</td>\n",
       "      <td>114_may</td>\n",
       "      <td>RT @LiliesHome_: Billboard hot trending songs ...</td>\n",
       "    </tr>\n",
       "    <tr>\n",
       "      <th>5</th>\n",
       "      <td>2022-04-26 04:50:14+00:00</td>\n",
       "      <td>RiderOfCypher</td>\n",
       "      <td>RT @theblueprintbts: Kpop stans fighting tooth...</td>\n",
       "    </tr>\n",
       "    <tr>\n",
       "      <th>6</th>\n",
       "      <td>2022-04-26 04:50:13+00:00</td>\n",
       "      <td>jkluvzone</td>\n",
       "      <td>thinking abt how i saw nct 127 in new york bef...</td>\n",
       "    </tr>\n",
       "    <tr>\n",
       "      <th>7</th>\n",
       "      <td>2022-04-26 04:50:13+00:00</td>\n",
       "      <td>mr_junghoseok</td>\n",
       "      <td>RT @theblueprintbts: Kpop stans fighting tooth...</td>\n",
       "    </tr>\n",
       "    <tr>\n",
       "      <th>8</th>\n",
       "      <td>2022-04-26 04:50:12+00:00</td>\n",
       "      <td>Yoonaddict049</td>\n",
       "      <td>RT @nabittae: This is from 'Kpop at Coachella ...</td>\n",
       "    </tr>\n",
       "    <tr>\n",
       "      <th>9</th>\n",
       "      <td>2022-04-26 04:50:11+00:00</td>\n",
       "      <td>miyoonieverse</td>\n",
       "      <td>RT @theblueprintbts: Kpop stans fighting tooth...</td>\n",
       "    </tr>\n",
       "    <tr>\n",
       "      <th>10</th>\n",
       "      <td>2022-04-26 04:50:11+00:00</td>\n",
       "      <td>Kenuchis_mendez</td>\n",
       "      <td>RT @korea_odyssey: #Kpop group #MONSTAX drops ...</td>\n",
       "    </tr>\n",
       "    <tr>\n",
       "      <th>11</th>\n",
       "      <td>2022-04-26 04:50:11+00:00</td>\n",
       "      <td>Kpop_lover7007</td>\n",
       "      <td>@ilelaq17 @CRIScake__ Thank you for the GA💜\\n\\...</td>\n",
       "    </tr>\n",
       "    <tr>\n",
       "      <th>12</th>\n",
       "      <td>2022-04-26 04:50:10+00:00</td>\n",
       "      <td>intoyooni</td>\n",
       "      <td>RT @txtdrindomy: -starfes omg the real king of...</td>\n",
       "    </tr>\n",
       "    <tr>\n",
       "      <th>13</th>\n",
       "      <td>2022-04-26 04:50:08+00:00</td>\n",
       "      <td>Lucy13352501</td>\n",
       "      <td>RT @FORMYLILI327: Billboard Hot Trending Songs...</td>\n",
       "    </tr>\n",
       "    <tr>\n",
       "      <th>14</th>\n",
       "      <td>2022-04-26 04:50:08+00:00</td>\n",
       "      <td>amii_stob_it</td>\n",
       "      <td>RT @theblueprintbts: Kpop stans fighting tooth...</td>\n",
       "    </tr>\n",
       "  </tbody>\n",
       "</table>\n",
       "</div>"
      ],
      "text/plain": [
       "                        Time             User  \\\n",
       "0  2022-04-26 04:50:15+00:00        Marfisita   \n",
       "1  2022-04-26 04:50:15+00:00  pancakenationnn   \n",
       "2  2022-04-26 04:50:14+00:00        elle_joon   \n",
       "3  2022-04-26 04:50:14+00:00      skyfallwaka   \n",
       "4  2022-04-26 04:50:14+00:00          114_may   \n",
       "5  2022-04-26 04:50:14+00:00    RiderOfCypher   \n",
       "6  2022-04-26 04:50:13+00:00        jkluvzone   \n",
       "7  2022-04-26 04:50:13+00:00    mr_junghoseok   \n",
       "8  2022-04-26 04:50:12+00:00    Yoonaddict049   \n",
       "9  2022-04-26 04:50:11+00:00    miyoonieverse   \n",
       "10 2022-04-26 04:50:11+00:00  Kenuchis_mendez   \n",
       "11 2022-04-26 04:50:11+00:00   Kpop_lover7007   \n",
       "12 2022-04-26 04:50:10+00:00        intoyooni   \n",
       "13 2022-04-26 04:50:08+00:00     Lucy13352501   \n",
       "14 2022-04-26 04:50:08+00:00     amii_stob_it   \n",
       "\n",
       "                                                Tweet  \n",
       "0   RT @jnghnynn: AVAILABLE VOTES FOR SALE! \\n\\n(F...  \n",
       "1   RT @sarasfilter: and kpop stans kept trying to...  \n",
       "2   RT @theblueprintbts: Kpop stans fighting tooth...  \n",
       "3   all the westerners who won’t give kpop a try b...  \n",
       "4   RT @LiliesHome_: Billboard hot trending songs ...  \n",
       "5   RT @theblueprintbts: Kpop stans fighting tooth...  \n",
       "6   thinking abt how i saw nct 127 in new york bef...  \n",
       "7   RT @theblueprintbts: Kpop stans fighting tooth...  \n",
       "8   RT @nabittae: This is from 'Kpop at Coachella ...  \n",
       "9   RT @theblueprintbts: Kpop stans fighting tooth...  \n",
       "10  RT @korea_odyssey: #Kpop group #MONSTAX drops ...  \n",
       "11  @ilelaq17 @CRIScake__ Thank you for the GA💜\\n\\...  \n",
       "12  RT @txtdrindomy: -starfes omg the real king of...  \n",
       "13  RT @FORMYLILI327: Billboard Hot Trending Songs...  \n",
       "14  RT @theblueprintbts: Kpop stans fighting tooth...  "
      ]
     },
     "execution_count": 12,
     "metadata": {},
     "output_type": "execute_result"
    }
   ],
   "source": [
    "columns = ['Time', 'User', 'Tweet']\n",
    "\n",
    "data = []\n",
    "\n",
    "for tweet in tweets:\n",
    "    data.append([tweet.created_at, tweet.user.screen_name, tweet.text])\n",
    "\n",
    "df = pd.DataFrame(data, columns=columns)\n",
    "\n",
    "df"
   ]
  },
  {
   "cell_type": "code",
   "execution_count": 23,
   "metadata": {},
   "outputs": [
    {
     "name": "stdout",
     "output_type": "stream",
     "text": [
      "User 'Marfisita' tweeted: RT @jnghnynn: AVAILABLE VOTES FOR SALE! \n",
      "\n",
      "(First Come, First Serve) DM TO AVAIL/RESERVE! \n",
      "MOP GCASH ONLY!\n",
      " \n",
      "ANNOUNCEMENT! (LOOKING FOR BUSI…\n",
      "\n",
      "User 'pancakenationnn' tweeted: RT @sarasfilter: and kpop stans kept trying to use Psy against bts it’s just so funny\n",
      "\n",
      "User 'elle_joon' tweeted: RT @theblueprintbts: Kpop stans fighting tooth and nail for Psy in attempt to discredit BTS while the man himself sought out one of the tan…\n",
      "\n",
      "User 'skyfallwaka' tweeted: all the westerners who won’t give kpop a try but we’re obsessed with gangnam style for two years after it’s release… https://t.co/bjbDouZDVE\n",
      "\n",
      "User '114_may' tweeted: RT @LiliesHome_: Billboard hot trending songs for Lisa\n",
      "\n",
      "Can you give us 127 replies for LISA?\n",
      "\n",
      "I'm listening to a K-pop female act song wit…\n",
      "\n",
      "User 'RiderOfCypher' tweeted: RT @theblueprintbts: Kpop stans fighting tooth and nail for Psy in attempt to discredit BTS while the man himself sought out one of the tan…\n",
      "\n",
      "User 'jkluvzone' tweeted: thinking abt how i saw nct 127 in new york before i even got into kpop\n",
      "\n",
      "User 'mr_junghoseok' tweeted: RT @theblueprintbts: Kpop stans fighting tooth and nail for Psy in attempt to discredit BTS while the man himself sought out one of the tan…\n",
      "\n",
      "User 'Yoonaddict049' tweeted: RT @nabittae: This is from 'Kpop at Coachella recap' space earlier: \n",
      "\n",
      "\"Ningning is everything I love her voice\"\n",
      "\n",
      "\"Karina she's gorgeous\"\n",
      "\n",
      "\"…\n",
      "\n",
      "User 'miyoonieverse' tweeted: RT @theblueprintbts: Kpop stans fighting tooth and nail for Psy in attempt to discredit BTS while the man himself sought out one of the tan…\n",
      "\n",
      "User 'Kenuchis_mendez' tweeted: RT @korea_odyssey: #Kpop group #MONSTAX drops title song #LOVE M/V teaser!! 📽️💜✨\n",
      "\n",
      "#MONSTA_X #MONSTAX_LOVE #ShapeofLove \n",
      "https://t.co/S9bm1J…\n",
      "\n",
      "User 'Kpop_lover7007' tweeted: @ilelaq17 @CRIScake__ Thank you for the GA💜\n",
      "\n",
      " Listen to the best OST #WithYou by #JIMIN of #BTS @BTS_twt and… https://t.co/v2upNWta8o\n",
      "\n",
      "User 'intoyooni' tweeted: RT @txtdrindomy: -starfes omg the real king of kpop akhirny comeback bareng the real king of kpop 👑👑👑👑👑👑👑👑\n",
      "\n",
      "User 'Lucy13352501' tweeted: RT @FORMYLILI327: Billboard Hot Trending Songs for LISA\n",
      "\n",
      "I'm listening to a K-pop female act song with highest #1 iTunes in Kpop history #L…\n",
      "\n",
      "User 'amii_stob_it' tweeted: RT @theblueprintbts: Kpop stans fighting tooth and nail for Psy in attempt to discredit BTS while the man himself sought out one of the tan…\n",
      "\n"
     ]
    }
   ],
   "source": [
    "for tweet in tweets:\n",
    "   print (\"User '\" + tweet.user.screen_name + \"' tweeted: \" + tweet.text + '\\n')"
   ]
  }
 ],
 "metadata": {
  "interpreter": {
   "hash": "4819c86b0803b63eda5c80188db09eae02dd758e6a1d1e621a4bb079b51c98ba"
  },
  "kernelspec": {
   "display_name": "Python 3.8.8 ('base')",
   "language": "python",
   "name": "python3"
  },
  "language_info": {
   "codemirror_mode": {
    "name": "ipython",
    "version": 3
   },
   "file_extension": ".py",
   "mimetype": "text/x-python",
   "name": "python",
   "nbconvert_exporter": "python",
   "pygments_lexer": "ipython3",
   "version": "3.8.8"
  },
  "orig_nbformat": 4
 },
 "nbformat": 4,
 "nbformat_minor": 2
}
