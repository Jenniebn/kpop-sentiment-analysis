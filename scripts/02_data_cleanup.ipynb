{
 "cells": [
  {
   "cell_type": "markdown",
   "metadata": {},
   "source": [
    "# Data cleanup\n",
    "In this notebook, we perform the operations necessary to clean up the data and split it into equivalent groups. "
   ]
  },
  {
   "cell_type": "code",
   "execution_count": 2,
   "metadata": {},
   "outputs": [
    {
     "name": "stdout",
     "output_type": "stream",
     "text": [
      "<class 'pandas.core.frame.DataFrame'>\n",
      "Int64Index: 2295 entries, 1529697716368211968 to 1532281260626055168\n",
      "Data columns (total 3 columns):\n",
      " #   Column      Non-Null Count  Dtype \n",
      "---  ------      --------------  ----- \n",
      " 0   text        2118 non-null   object\n",
      " 1   created_at  2295 non-null   object\n",
      " 2   lang        2295 non-null   object\n",
      "dtypes: object(3)\n",
      "memory usage: 71.7+ KB\n"
     ]
    }
   ],
   "source": [
    "import pandas as pd\n",
    "\n",
    "df = pd.read_csv('../data/data.csv', index_col=0)\n",
    "\n",
    "# Let's see what the raw data looks like. \n",
    "df.info()"
   ]
  },
  {
   "cell_type": "markdown",
   "metadata": {},
   "source": [
    "Something I noticed is that there are 177 Tweets with \"null\" text. So clearly some of this data is invalid and needs to be cleaned up. There's a few cases we want to account for.\n",
    "\n",
    "These are:\n",
    "- Duplicates\n",
    "- Non-English or Non-Korean Tweets\n",
    "- Empty Tweets\n",
    "- Spam or advertisements"
   ]
  },
  {
   "cell_type": "code",
   "execution_count": 4,
   "metadata": {},
   "outputs": [],
   "source": [
    "# Drop all accidental copies\n",
    "df = df.drop_duplicates()\n",
    "\n",
    "# Drop all Tweets with the exact same message...\n",
    "# These could be retweets, spam, etc...\n",
    "df = df.drop_duplicates(subset=['text'])\n",
    "\n",
    "# Drop all Tweets with the keyword 'wts'\n",
    "# These are advertisements selling K-pop merchandise\n",
    "df = df[df['text'].str.contains('wts') == False]\n",
    "\n",
    "# Some of the data was gathered using methods that have left behind artifacts.\n",
    "# An example would be some broken link strings (always start with https)\n",
    "patterns = [r'(:?https\\w+)', r'(:?RT)( )(\\w+)']\n",
    "for pattern in patterns:\n",
    "    df['text'] = df['text'].str.replace(pattern, '', regex=True)\n",
    "\n",
    "# Next, we only want English and Korean tweets...\n",
    "langs = ['en', 'ko']\n",
    "df = df[df['lang'].isin(langs)]"
   ]
  },
  {
   "cell_type": "code",
   "execution_count": 5,
   "metadata": {},
   "outputs": [
    {
     "name": "stdout",
     "output_type": "stream",
     "text": [
      "<class 'pandas.core.frame.DataFrame'>\n",
      "Int64Index: 1566 entries, 1529697716368211968 to 1532281272986664960\n",
      "Data columns (total 3 columns):\n",
      " #   Column      Non-Null Count  Dtype \n",
      "---  ------      --------------  ----- \n",
      " 0   text        1566 non-null   object\n",
      " 1   created_at  1566 non-null   object\n",
      " 2   lang        1566 non-null   object\n",
      "dtypes: object(3)\n",
      "memory usage: 48.9+ KB\n"
     ]
    }
   ],
   "source": [
    "# Let's see what data we have left...\n",
    "df.info()"
   ]
  },
  {
   "cell_type": "markdown",
   "metadata": {},
   "source": [
    "So we went from 2295 entries to 1566 entries, which is a 37.7622% decrease."
   ]
  },
  {
   "cell_type": "code",
   "execution_count": 6,
   "metadata": {},
   "outputs": [
    {
     "data": {
      "text/plain": [
       "en    1040\n",
       "ko     526\n",
       "Name: lang, dtype: int64"
      ]
     },
     "execution_count": 6,
     "metadata": {},
     "output_type": "execute_result"
    }
   ],
   "source": [
    "# Print value counts for the 'lang' column\n",
    "df['lang'].value_counts()"
   ]
  },
  {
   "cell_type": "markdown",
   "metadata": {},
   "source": [
    "As we can see, the size of the English dataset is roughly twice the size of the Korean dataset. So, if using this dataset for machine learning purposes it is recommended to consider an undersampling approach when it comes to the English dataset. \n",
    "\n",
    "Next, a little bit more work has to be done to the Korean dataset."
   ]
  },
  {
   "cell_type": "code",
   "execution_count": 10,
   "metadata": {},
   "outputs": [],
   "source": [
    "# Save this cleaned data to CSV file\n",
    "# This is done to ensure this process is non-destructive.\n",
    "df.to_csv('../data/data_clean.csv')"
   ]
  },
  {
   "cell_type": "code",
   "execution_count": 7,
   "metadata": {},
   "outputs": [],
   "source": [
    "# Split the dataset into Korean and English dataframes\n",
    "df_ko = df[df['lang'] == 'ko']\n",
    "df_en = df[df['lang'] == 'en']"
   ]
  },
  {
   "cell_type": "code",
   "execution_count": 8,
   "metadata": {},
   "outputs": [
    {
     "data": {
      "text/html": [
       "<div>\n",
       "<style scoped>\n",
       "    .dataframe tbody tr th:only-of-type {\n",
       "        vertical-align: middle;\n",
       "    }\n",
       "\n",
       "    .dataframe tbody tr th {\n",
       "        vertical-align: top;\n",
       "    }\n",
       "\n",
       "    .dataframe thead th {\n",
       "        text-align: right;\n",
       "    }\n",
       "</style>\n",
       "<table border=\"1\" class=\"dataframe\">\n",
       "  <thead>\n",
       "    <tr style=\"text-align: right;\">\n",
       "      <th></th>\n",
       "      <th>text</th>\n",
       "      <th>created_at</th>\n",
       "      <th>lang</th>\n",
       "    </tr>\n",
       "    <tr>\n",
       "      <th>id</th>\n",
       "      <th></th>\n",
       "      <th></th>\n",
       "      <th></th>\n",
       "    </tr>\n",
       "  </thead>\n",
       "  <tbody>\n",
       "    <tr>\n",
       "      <th>1529697716368211968</th>\n",
       "      <td>에버랜드 X HYBE 가든 오브 라이츠 투바투 개쩔어유 어머뿔자    영원럽  G...</td>\n",
       "      <td>2022-05-26 05:35:30+00:00</td>\n",
       "      <td>ko</td>\n",
       "    </tr>\n",
       "    <tr>\n",
       "      <th>1529696380230696960</th>\n",
       "      <td>김가람탈퇴해 hybe가 김가람과 괴롭힘을 당한 사람을 화해시키는 것을 의논하고 있...</td>\n",
       "      <td>2022-05-26 05:30:12+00:00</td>\n",
       "      <td>ko</td>\n",
       "    </tr>\n",
       "    <tr>\n",
       "      <th>1529696274802683904</th>\n",
       "      <td>ʚ 𝐘𝐨𝐮𝐫 𝐓𝐰𝐞𝐧𝐭𝐲 ɞ   김선우 생일 응원 프로젝트   하이브 앞 버스 정...</td>\n",
       "      <td>2022-05-26 05:29:46+00:00</td>\n",
       "      <td>ko</td>\n",
       "    </tr>\n",
       "    <tr>\n",
       "      <th>1529697908945133568</th>\n",
       "      <td>플리캠 Simply KPop Behind Clip    아니 진짜로 리터럴리 천사...</td>\n",
       "      <td>2022-05-26 05:36:16+00:00</td>\n",
       "      <td>ko</td>\n",
       "    </tr>\n",
       "    <tr>\n",
       "      <th>1529697893870817280</th>\n",
       "      <td>라벤더 베레모 채원이  김채원 KIMCHAEWON チェウォン 르세라핌 LESSER...</td>\n",
       "      <td>2022-05-26 05:36:12+00:00</td>\n",
       "      <td>ko</td>\n",
       "    </tr>\n",
       "    <tr>\n",
       "      <th>...</th>\n",
       "      <td>...</td>\n",
       "      <td>...</td>\n",
       "      <td>...</td>\n",
       "    </tr>\n",
       "    <tr>\n",
       "      <th>1532562810760495106</th>\n",
       "      <td>잘생김을 넘어선 아름다움   TAEHYUNG   YearsWithV  태형아사랑해 ...</td>\n",
       "      <td>2022-06-03 03:20:22+00:00</td>\n",
       "      <td>ko</td>\n",
       "    </tr>\n",
       "    <tr>\n",
       "      <th>1532561725983436800</th>\n",
       "      <td>두리뭉실 넘어갈 생각마라  정바비참여곡삭제해 garamOUT  하이브피해자에게사과해</td>\n",
       "      <td>2022-06-03 03:16:03+00:00</td>\n",
       "      <td>ko</td>\n",
       "    </tr>\n",
       "    <tr>\n",
       "      <th>1532561322768203776</th>\n",
       "      <td>최애는 내가 선택하는 것이 아니라 최애가 내게 강림하는 거라면서요  늘 노력하고 진...</td>\n",
       "      <td>2022-06-03 03:14:27+00:00</td>\n",
       "      <td>ko</td>\n",
       "    </tr>\n",
       "    <tr>\n",
       "      <th>1532339411186491392</th>\n",
       "      <td>멤버들이 백악관에서 한 연설이 그들의 청춘에 대한 선한 영향력이 지속될 수 있도록...</td>\n",
       "      <td>2022-06-02 12:32:39+00:00</td>\n",
       "      <td>ko</td>\n",
       "    </tr>\n",
       "    <tr>\n",
       "      <th>1532281272986664960</th>\n",
       "      <td>TaeTaeV HYBELABELStwt BIGHITMUSIC 멤버들이 백악관에서 ...</td>\n",
       "      <td>2022-06-02 08:41:38+00:00</td>\n",
       "      <td>ko</td>\n",
       "    </tr>\n",
       "  </tbody>\n",
       "</table>\n",
       "<p>526 rows × 3 columns</p>\n",
       "</div>"
      ],
      "text/plain": [
       "                                                                  text  \\\n",
       "id                                                                       \n",
       "1529697716368211968   에버랜드 X HYBE 가든 오브 라이츠 투바투 개쩔어유 어머뿔자    영원럽  G...   \n",
       "1529696380230696960   김가람탈퇴해 hybe가 김가람과 괴롭힘을 당한 사람을 화해시키는 것을 의논하고 있...   \n",
       "1529696274802683904   ʚ 𝐘𝐨𝐮𝐫 𝐓𝐰𝐞𝐧𝐭𝐲 ɞ   김선우 생일 응원 프로젝트   하이브 앞 버스 정...   \n",
       "1529697908945133568   플리캠 Simply KPop Behind Clip    아니 진짜로 리터럴리 천사...   \n",
       "1529697893870817280   라벤더 베레모 채원이  김채원 KIMCHAEWON チェウォン 르세라핌 LESSER...   \n",
       "...                                                                ...   \n",
       "1532562810760495106  잘생김을 넘어선 아름다움   TAEHYUNG   YearsWithV  태형아사랑해 ...   \n",
       "1532561725983436800     두리뭉실 넘어갈 생각마라  정바비참여곡삭제해 garamOUT  하이브피해자에게사과해   \n",
       "1532561322768203776  최애는 내가 선택하는 것이 아니라 최애가 내게 강림하는 거라면서요  늘 노력하고 진...   \n",
       "1532339411186491392   멤버들이 백악관에서 한 연설이 그들의 청춘에 대한 선한 영향력이 지속될 수 있도록...   \n",
       "1532281272986664960   TaeTaeV HYBELABELStwt BIGHITMUSIC 멤버들이 백악관에서 ...   \n",
       "\n",
       "                                    created_at lang  \n",
       "id                                                   \n",
       "1529697716368211968  2022-05-26 05:35:30+00:00   ko  \n",
       "1529696380230696960  2022-05-26 05:30:12+00:00   ko  \n",
       "1529696274802683904  2022-05-26 05:29:46+00:00   ko  \n",
       "1529697908945133568  2022-05-26 05:36:16+00:00   ko  \n",
       "1529697893870817280  2022-05-26 05:36:12+00:00   ko  \n",
       "...                                        ...  ...  \n",
       "1532562810760495106  2022-06-03 03:20:22+00:00   ko  \n",
       "1532561725983436800  2022-06-03 03:16:03+00:00   ko  \n",
       "1532561322768203776  2022-06-03 03:14:27+00:00   ko  \n",
       "1532339411186491392  2022-06-02 12:32:39+00:00   ko  \n",
       "1532281272986664960  2022-06-02 08:41:38+00:00   ko  \n",
       "\n",
       "[526 rows x 3 columns]"
      ]
     },
     "execution_count": 8,
     "metadata": {},
     "output_type": "execute_result"
    }
   ],
   "source": [
    "df_ko"
   ]
  },
  {
   "cell_type": "code",
   "execution_count": 9,
   "metadata": {},
   "outputs": [
    {
     "name": "stderr",
     "output_type": "stream",
     "text": [
      "/Users/anthonysainez/Developer/kpop-sentiment-analysis/venv/lib/python3.7/site-packages/ipykernel_launcher.py:3: SettingWithCopyWarning: \n",
      "A value is trying to be set on a copy of a slice from a DataFrame.\n",
      "Try using .loc[row_indexer,col_indexer] = value instead\n",
      "\n",
      "See the caveats in the documentation: https://pandas.pydata.org/pandas-docs/stable/user_guide/indexing.html#returning-a-view-versus-a-copy\n",
      "  This is separate from the ipykernel package so we can avoid doing imports until\n"
     ]
    },
    {
     "data": {
      "text/html": [
       "<div>\n",
       "<style scoped>\n",
       "    .dataframe tbody tr th:only-of-type {\n",
       "        vertical-align: middle;\n",
       "    }\n",
       "\n",
       "    .dataframe tbody tr th {\n",
       "        vertical-align: top;\n",
       "    }\n",
       "\n",
       "    .dataframe thead th {\n",
       "        text-align: right;\n",
       "    }\n",
       "</style>\n",
       "<table border=\"1\" class=\"dataframe\">\n",
       "  <thead>\n",
       "    <tr style=\"text-align: right;\">\n",
       "      <th></th>\n",
       "      <th>text</th>\n",
       "      <th>created_at</th>\n",
       "      <th>lang</th>\n",
       "    </tr>\n",
       "    <tr>\n",
       "      <th>id</th>\n",
       "      <th></th>\n",
       "      <th></th>\n",
       "      <th></th>\n",
       "    </tr>\n",
       "  </thead>\n",
       "  <tbody>\n",
       "    <tr>\n",
       "      <th>1529697716368211968</th>\n",
       "      <td>에버랜드XHYBE가든오브라이츠투바투개쩔어유어머뿔자영원럽GBGB순으로하는데포시즌스가든...</td>\n",
       "      <td>2022-05-26 05:35:30+00:00</td>\n",
       "      <td>ko</td>\n",
       "    </tr>\n",
       "    <tr>\n",
       "      <th>1529696380230696960</th>\n",
       "      <td>김가람탈퇴해hybe가김가람과괴롭힘을당한사람을화해시키는것을의논하고있다는데그게바로횡포실...</td>\n",
       "      <td>2022-05-26 05:30:12+00:00</td>\n",
       "      <td>ko</td>\n",
       "    </tr>\n",
       "    <tr>\n",
       "      <th>1529696274802683904</th>\n",
       "      <td>ʚ𝐘𝐨𝐮𝐫𝐓𝐰𝐞𝐧𝐭𝐲ɞ김선우생일응원프로젝트하이브앞버스정류장광고한강대교북단LG유플러스...</td>\n",
       "      <td>2022-05-26 05:29:46+00:00</td>\n",
       "      <td>ko</td>\n",
       "    </tr>\n",
       "    <tr>\n",
       "      <th>1529697908945133568</th>\n",
       "      <td>플리캠SimplyKPopBehindClip아니진짜로리터럴리천사잖아요இ௰இ♡KROUN...</td>\n",
       "      <td>2022-05-26 05:36:16+00:00</td>\n",
       "      <td>ko</td>\n",
       "    </tr>\n",
       "    <tr>\n",
       "      <th>1529697893870817280</th>\n",
       "      <td>라벤더베레모채원이김채원KIMCHAEWONチェウォン르세라핌LESSERAFIM</td>\n",
       "      <td>2022-05-26 05:36:12+00:00</td>\n",
       "      <td>ko</td>\n",
       "    </tr>\n",
       "    <tr>\n",
       "      <th>...</th>\n",
       "      <td>...</td>\n",
       "      <td>...</td>\n",
       "      <td>...</td>\n",
       "    </tr>\n",
       "    <tr>\n",
       "      <th>1532562810760495106</th>\n",
       "      <td>잘생김을넘어선아름다움TAEHYUNGYearsWithV태형아사랑해태형아지켜줄게정바비참...</td>\n",
       "      <td>2022-06-03 03:20:22+00:00</td>\n",
       "      <td>ko</td>\n",
       "    </tr>\n",
       "    <tr>\n",
       "      <th>1532561725983436800</th>\n",
       "      <td>두리뭉실넘어갈생각마라정바비참여곡삭제해garamOUT하이브피해자에게사과해</td>\n",
       "      <td>2022-06-03 03:16:03+00:00</td>\n",
       "      <td>ko</td>\n",
       "    </tr>\n",
       "    <tr>\n",
       "      <th>1532561322768203776</th>\n",
       "      <td>최애는내가선택하는것이아니라최애가내게강림하는거라면서요늘노력하고진실된모습보여줘서뿌듯한덕...</td>\n",
       "      <td>2022-06-03 03:14:27+00:00</td>\n",
       "      <td>ko</td>\n",
       "    </tr>\n",
       "    <tr>\n",
       "      <th>1532339411186491392</th>\n",
       "      <td>멤버들이백악관에서한연설이그들의청춘에대한선한영향력이지속될수있도록소속사인하이브의학폭과성...</td>\n",
       "      <td>2022-06-02 12:32:39+00:00</td>\n",
       "      <td>ko</td>\n",
       "    </tr>\n",
       "    <tr>\n",
       "      <th>1532281272986664960</th>\n",
       "      <td>TaeTaeVHYBELABELStwtBIGHITMUSIC멤버들이백악관에서한연설이그들...</td>\n",
       "      <td>2022-06-02 08:41:38+00:00</td>\n",
       "      <td>ko</td>\n",
       "    </tr>\n",
       "  </tbody>\n",
       "</table>\n",
       "<p>526 rows × 3 columns</p>\n",
       "</div>"
      ],
      "text/plain": [
       "                                                                  text  \\\n",
       "id                                                                       \n",
       "1529697716368211968  에버랜드XHYBE가든오브라이츠투바투개쩔어유어머뿔자영원럽GBGB순으로하는데포시즌스가든...   \n",
       "1529696380230696960  김가람탈퇴해hybe가김가람과괴롭힘을당한사람을화해시키는것을의논하고있다는데그게바로횡포실...   \n",
       "1529696274802683904  ʚ𝐘𝐨𝐮𝐫𝐓𝐰𝐞𝐧𝐭𝐲ɞ김선우생일응원프로젝트하이브앞버스정류장광고한강대교북단LG유플러스...   \n",
       "1529697908945133568  플리캠SimplyKPopBehindClip아니진짜로리터럴리천사잖아요இ௰இ♡KROUN...   \n",
       "1529697893870817280          라벤더베레모채원이김채원KIMCHAEWONチェウォン르세라핌LESSERAFIM   \n",
       "...                                                                ...   \n",
       "1532562810760495106  잘생김을넘어선아름다움TAEHYUNGYearsWithV태형아사랑해태형아지켜줄게정바비참...   \n",
       "1532561725983436800            두리뭉실넘어갈생각마라정바비참여곡삭제해garamOUT하이브피해자에게사과해   \n",
       "1532561322768203776  최애는내가선택하는것이아니라최애가내게강림하는거라면서요늘노력하고진실된모습보여줘서뿌듯한덕...   \n",
       "1532339411186491392  멤버들이백악관에서한연설이그들의청춘에대한선한영향력이지속될수있도록소속사인하이브의학폭과성...   \n",
       "1532281272986664960  TaeTaeVHYBELABELStwtBIGHITMUSIC멤버들이백악관에서한연설이그들...   \n",
       "\n",
       "                                    created_at lang  \n",
       "id                                                   \n",
       "1529697716368211968  2022-05-26 05:35:30+00:00   ko  \n",
       "1529696380230696960  2022-05-26 05:30:12+00:00   ko  \n",
       "1529696274802683904  2022-05-26 05:29:46+00:00   ko  \n",
       "1529697908945133568  2022-05-26 05:36:16+00:00   ko  \n",
       "1529697893870817280  2022-05-26 05:36:12+00:00   ko  \n",
       "...                                        ...  ...  \n",
       "1532562810760495106  2022-06-03 03:20:22+00:00   ko  \n",
       "1532561725983436800  2022-06-03 03:16:03+00:00   ko  \n",
       "1532561322768203776  2022-06-03 03:14:27+00:00   ko  \n",
       "1532339411186491392  2022-06-02 12:32:39+00:00   ko  \n",
       "1532281272986664960  2022-06-02 08:41:38+00:00   ko  \n",
       "\n",
       "[526 rows x 3 columns]"
      ]
     },
     "execution_count": 9,
     "metadata": {},
     "output_type": "execute_result"
    }
   ],
   "source": [
    "patterns = [r'[@%\\\\*=()/~#&\\+á?\\xc3\\xa1\\-\\|\\.\\:\\;\\!\\-\\,\\_\\~\\$\\'\\\"]', r'\\d+', r'\\s+', r'<[^>]+>', r\"^\\s+\", r'\\s+$']\n",
    "for pattern in patterns:\n",
    "    df_ko['text'] = df_ko['text'].str.replace(pattern, '', regex=True)\n",
    "\n",
    "df_ko"
   ]
  },
  {
   "cell_type": "code",
   "execution_count": 11,
   "metadata": {},
   "outputs": [],
   "source": [
    "# Save them to CSV files in the 'data' directory\n",
    "df_ko.to_csv('../data/data_ko.csv')\n",
    "df_en.to_csv('../data/data_en.csv')"
   ]
  }
 ],
 "metadata": {
  "interpreter": {
   "hash": "20edb8f06bdca20b39b1f6eaf943af3ef9be3d6a5e470d09b99823e3283fbace"
  },
  "kernelspec": {
   "display_name": "Python 3.7.9 ('venv': venv)",
   "language": "python",
   "name": "python3"
  },
  "language_info": {
   "codemirror_mode": {
    "name": "ipython",
    "version": 3
   },
   "file_extension": ".py",
   "mimetype": "text/x-python",
   "name": "python",
   "nbconvert_exporter": "python",
   "pygments_lexer": "ipython3",
   "version": "3.7.9"
  },
  "orig_nbformat": 4
 },
 "nbformat": 4,
 "nbformat_minor": 2
}
